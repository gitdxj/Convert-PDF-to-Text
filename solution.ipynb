{
 "cells": [
  {
   "cell_type": "markdown",
   "metadata": {},
   "source": [
    "pdfminer3k  \n",
    "pdfminer.six\n",
    "pypdf  \n",
    "pypdfocr\n"
   ]
  },
  {
   "cell_type": "code",
   "execution_count": 1,
   "metadata": {},
   "outputs": [],
   "source": [
    "phone_numbers = [\"./data/phone_numbers/070219_KV_BR_Telefonverzei.pdf\",\n",
    "                \"./data/phone_numbers/52_pdf_wegweiser_schlaganfall.pdf\",\n",
    "                 \"./data/phone_numbers/FL_SYB_BetriebsaerztlicherDienst_ID8414.pdf\",\n",
    "                 \"./data/phone_numbers/Infoblatt_154.pdf\"\n",
    "                ]\n",
    "scans = [\"./data/scans/double_ocr.pdf\",\n",
    "         \"./data/scans/single_ocr.pdf\"]"
   ]
  },
  {
   "cell_type": "markdown",
   "metadata": {},
   "source": [
    "### pdfminer3k"
   ]
  },
  {
   "cell_type": "code",
   "execution_count": 2,
   "metadata": {},
   "outputs": [
    {
     "ename": "ImportError",
     "evalue": "cannot import name 'PDFDocument' from 'pdfminer.pdfparser' (C:\\ProgramData\\Anaconda3\\lib\\site-packages\\pdfminer\\pdfparser.py)",
     "output_type": "error",
     "traceback": [
      "\u001b[1;31m---------------------------------------------------------------------------\u001b[0m",
      "\u001b[1;31mImportError\u001b[0m                               Traceback (most recent call last)",
      "\u001b[1;32m<ipython-input-2-e8f6feb3e7b9>\u001b[0m in \u001b[0;36m<module>\u001b[1;34m\u001b[0m\n\u001b[0;32m      5\u001b[0m \u001b[1;32mfrom\u001b[0m \u001b[0mpdfminer\u001b[0m\u001b[1;33m.\u001b[0m\u001b[0mconverter\u001b[0m \u001b[1;32mimport\u001b[0m \u001b[0mPDFPageAggregator\u001b[0m\u001b[1;33m\u001b[0m\u001b[1;33m\u001b[0m\u001b[0m\n\u001b[0;32m      6\u001b[0m \u001b[1;32mfrom\u001b[0m \u001b[0mpdfminer\u001b[0m\u001b[1;33m.\u001b[0m\u001b[0mlayout\u001b[0m \u001b[1;32mimport\u001b[0m \u001b[0mLAParams\u001b[0m\u001b[1;33m,\u001b[0m \u001b[0mLTTextBoxHorizontal\u001b[0m\u001b[1;33m\u001b[0m\u001b[1;33m\u001b[0m\u001b[0m\n\u001b[1;32m----> 7\u001b[1;33m \u001b[1;32mfrom\u001b[0m \u001b[0mpdfminer\u001b[0m\u001b[1;33m.\u001b[0m\u001b[0mpdfparser\u001b[0m \u001b[1;32mimport\u001b[0m \u001b[0mPDFParser\u001b[0m\u001b[1;33m,\u001b[0m \u001b[0mPDFDocument\u001b[0m\u001b[1;33m\u001b[0m\u001b[1;33m\u001b[0m\u001b[0m\n\u001b[0m\u001b[0;32m      8\u001b[0m \u001b[1;32mfrom\u001b[0m \u001b[0mpdfminer\u001b[0m\u001b[1;33m.\u001b[0m\u001b[0mpdfinterp\u001b[0m \u001b[1;32mimport\u001b[0m \u001b[0mPDFResourceManager\u001b[0m\u001b[1;33m,\u001b[0m \u001b[0mPDFPageInterpreter\u001b[0m\u001b[1;33m,\u001b[0m \u001b[0mPDFTextExtractionNotAllowed\u001b[0m\u001b[1;33m\u001b[0m\u001b[1;33m\u001b[0m\u001b[0m\n\u001b[0;32m      9\u001b[0m \u001b[1;32mfrom\u001b[0m \u001b[0mpdfminer\u001b[0m\u001b[1;33m.\u001b[0m\u001b[0mpdfdevice\u001b[0m \u001b[1;32mimport\u001b[0m \u001b[0mPDFDevice\u001b[0m\u001b[1;33m\u001b[0m\u001b[1;33m\u001b[0m\u001b[0m\n",
      "\u001b[1;31mImportError\u001b[0m: cannot import name 'PDFDocument' from 'pdfminer.pdfparser' (C:\\ProgramData\\Anaconda3\\lib\\site-packages\\pdfminer\\pdfparser.py)"
     ]
    }
   ],
   "source": [
    "#!/usr/bin/env python3\n",
    "#-*- coding:utf-8 -*-\n",
    "# pip3 install pdfminer3k\n",
    "  \n",
    "from pdfminer.converter import PDFPageAggregator\n",
    "from pdfminer.layout import LAParams, LTTextBoxHorizontal\n",
    "from pdfminer.pdfparser import PDFParser, PDFDocument\n",
    "from pdfminer.pdfinterp import PDFResourceManager, PDFPageInterpreter, PDFTextExtractionNotAllowed\n",
    "from pdfminer.pdfdevice import PDFDevice\n",
    " \n",
    "def read_pdf(pdf_name, result_name):\n",
    "    # 以二进制读模式打开\n",
    "    fp = open(pdf_name, 'rb')\n",
    "    # 用文件对象来创建一个pdf文档分析器\n",
    "    parser = PDFParser(fp)\n",
    "    # 创建一个pdf文档\n",
    "    doc = PDFDocument()\n",
    "    # 连接分析器 与文档对象\n",
    "    parser.set_document(doc)\n",
    "    doc.set_parser(parser)\n",
    "    # 提供初始密码，如果没有密码 就创建一个空的字符串\n",
    "    doc.initialize('')\n",
    "    # 检测文档是否提供txt转换，不提供就抛出异常\n",
    "    if not doc.is_extractable:\n",
    "        raise PDFTextExtractionNotAllowed\n",
    "    # 创建PDf 资源管理器 来管理共享资源\n",
    "    rsrcmgr = PDFResourceManager()\n",
    "    # 创建一个PDF设备对象\n",
    "    laparams = LAParams()\n",
    "    device = PDFPageAggregator(rsrcmgr, laparams=laparams)\n",
    "    # 创建一个PDF解释器对象\n",
    "    interpreter = PDFPageInterpreter(rsrcmgr, device)\n",
    "     \n",
    "    with open(result_name,\"w\",encoding=\"utf-8\") as fd_out:\n",
    "        # 循环遍历列表，每次处理一个page的内容\n",
    "        for i,page in enumerate(doc.get_pages(),1):\n",
    "            index = \"===========《第{}页》===========\".format(i)\n",
    "            print(index)\n",
    "            fd_out.write(index + \"\\n\")\n",
    "            interpreter.process_page(page)\n",
    "            # 接受该页面的LTPage对象\n",
    "            layout = device.get_result()\n",
    "            for x in layout:\n",
    "                if hasattr(x,\"get_text\"):\n",
    "                    results = x.get_text()\n",
    "                    print(results)\n",
    "                    fd_out.write(results) \n",
    "                # 这里layout是一个LTPage对象 里面存放着 这个page解析出的各种对象 一般包括LTTextBox,\n",
    "                # LTFigure, LTImage, LTTextBoxHorizontal 等等 想要获取文本就获得对象的text属性\n",
    "                #if not isinstance(x, LTTextBoxHorizontal):\n",
    "                #    continue\n",
    "                #results = x.get_text()\n",
    "                #print(results)\n",
    "                #fd_out.write(results)   \n",
    " \n",
    "                         \n",
    " \n",
    "\n",
    "pdf_name = phone_numbers[3]\n",
    "result = './test.txt'\n",
    "read_pdf(pdf_name, result)"
   ]
  },
  {
   "cell_type": "markdown",
   "metadata": {},
   "source": []
  },
  {
   "cell_type": "code",
   "execution_count": 11,
   "metadata": {},
   "outputs": [
    {
     "ename": "ModuleNotFoundError",
     "evalue": "No module named 'pdfminer.pdfpage'",
     "output_type": "error",
     "traceback": [
      "\u001b[1;31m---------------------------------------------------------------------------\u001b[0m",
      "\u001b[1;31mModuleNotFoundError\u001b[0m                       Traceback (most recent call last)",
      "\u001b[1;32m<ipython-input-11-faeb9e678a25>\u001b[0m in \u001b[0;36m<module>\u001b[1;34m\u001b[0m\n\u001b[0;32m      2\u001b[0m \u001b[1;32mfrom\u001b[0m \u001b[0mpdfminer\u001b[0m\u001b[1;33m.\u001b[0m\u001b[0mconverter\u001b[0m \u001b[1;32mimport\u001b[0m \u001b[0mTextConverter\u001b[0m\u001b[1;33m\u001b[0m\u001b[1;33m\u001b[0m\u001b[0m\n\u001b[0;32m      3\u001b[0m \u001b[1;32mfrom\u001b[0m \u001b[0mpdfminer\u001b[0m\u001b[1;33m.\u001b[0m\u001b[0mlayout\u001b[0m \u001b[1;32mimport\u001b[0m \u001b[0mLAParams\u001b[0m\u001b[1;33m\u001b[0m\u001b[1;33m\u001b[0m\u001b[0m\n\u001b[1;32m----> 4\u001b[1;33m \u001b[1;32mfrom\u001b[0m \u001b[0mpdfminer\u001b[0m\u001b[1;33m.\u001b[0m\u001b[0mpdfpage\u001b[0m \u001b[1;32mimport\u001b[0m \u001b[0mPDFPage\u001b[0m\u001b[1;33m\u001b[0m\u001b[1;33m\u001b[0m\u001b[0m\n\u001b[0m\u001b[0;32m      5\u001b[0m \u001b[1;32mfrom\u001b[0m \u001b[0mio\u001b[0m \u001b[1;32mimport\u001b[0m \u001b[0mStringIO\u001b[0m\u001b[1;33m\u001b[0m\u001b[1;33m\u001b[0m\u001b[0m\n\u001b[0;32m      6\u001b[0m \u001b[1;32mimport\u001b[0m \u001b[0mos\u001b[0m\u001b[1;33m\u001b[0m\u001b[1;33m\u001b[0m\u001b[0m\n",
      "\u001b[1;31mModuleNotFoundError\u001b[0m: No module named 'pdfminer.pdfpage'"
     ]
    }
   ],
   "source": [
    "from pdfminer.pdfinterp import PDFResourceManager, PDFPageInterpreter\n",
    "from pdfminer.converter import TextConverter\n",
    "from pdfminer.layout import LAParams\n",
    "from pdfminer.pdfpage import PDFPage\n",
    "from io import StringIO\n",
    "import os \n",
    "\n",
    "def convert_pdf_to_txt(path, pages=None):\n",
    "    if not pages:\n",
    "        pagenums = set()\n",
    "    else:\n",
    "        pagenums = set(pages)\n",
    "    output = StringIO()\n",
    "    manager = PDFResourceManager()\n",
    "    converter = TextConverter(manager, output, laparams=LAParams())\n",
    "    interpreter = PDFPageInterpreter(manager, converter)\n",
    "\n",
    "    infile = open(path, 'rb')\n",
    "    for page in PDFPage.get_pages(infile, pagenums):\n",
    "        interpreter.process_page(page)\n",
    "    infile.close()\n",
    "    converter.close()\n",
    "    text = output.getvalue()\n",
    "    output.close()\n",
    "    return text\n",
    "\n",
    "s = convert_pdf_to_txt(phone_numebrs[0])\n",
    "print(s)"
   ]
  },
  {
   "cell_type": "markdown",
   "metadata": {},
   "source": [
    "### pdfminer.six"
   ]
  },
  {
   "cell_type": "code",
   "execution_count": 4,
   "metadata": {},
   "outputs": [],
   "source": [
    "from pdfminer.pdfinterp import PDFResourceManager, PDFPageInterpreter\n",
    "from pdfminer.converter import HTMLConverter,TextConverter,XMLConverter\n",
    "from pdfminer.layout import LAParams\n",
    "from pdfminer.pdfpage import PDFPage\n",
    "import io\n",
    "\n",
    "def convert(case,fname, pages=None):\n",
    "    if not pages: pagenums = set();\n",
    "    else:         pagenums = set(pages);      \n",
    "    manager = PDFResourceManager() \n",
    "    codec = 'utf-8'\n",
    "    caching = True\n",
    "\n",
    "    if case == 'text' :\n",
    "        output = io.StringIO()\n",
    "        converter = TextConverter(manager, output, codec=codec, laparams=LAParams())     \n",
    "    if case == 'HTML' :\n",
    "        output = io.BytesIO()\n",
    "        converter = HTMLConverter(manager, output, codec=codec, laparams=LAParams())\n",
    "\n",
    "    interpreter = PDFPageInterpreter(manager, converter)   \n",
    "    infile = open(fname, 'rb')\n",
    "\n",
    "    for page in PDFPage.get_pages(infile, pagenums,caching=caching, check_extractable=True):\n",
    "        interpreter.process_page(page)\n",
    "\n",
    "    convertedPDF = output.getvalue()  \n",
    "\n",
    "    infile.close(); converter.close(); output.close()\n",
    "    return convertedPDF\n",
    "\n",
    "#//////////// main ///////////////////////\n",
    "filePDF  = phone_numbers[0]     # input\n",
    "fileHTML = 'myHTML.html'   # output\n",
    "fileTXT  = 'myTXT.txt'     # output\n",
    "\n",
    "case = \"text\"\n",
    "\n",
    "if case == 'HTML' :\n",
    "    convertedPDF = convert('HTML', filePDF)\n",
    "    fileConverted = open(fileHTML, \"wb\", encoding=\"utf-8\")\n",
    "if case == 'text' :\n",
    "    convertedPDF = convert('text', filePDF)\n",
    "    fileConverted = open(fileTXT, \"w\", encoding=\"utf-8\")\n",
    "\n",
    "fileConverted.write(convertedPDF)\n",
    "fileConverted.close()\n",
    "#print(convertedPDF) "
   ]
  },
  {
   "cell_type": "markdown",
   "metadata": {},
   "source": [
    "### pdftotree\n",
    "\n",
    "pyocr"
   ]
  },
  {
   "cell_type": "code",
   "execution_count": 4,
   "metadata": {},
   "outputs": [
    {
     "name": "stdout",
     "output_type": "stream",
     "text": [
      "出现错误了 [WinError 2] The system cannot find the file specified\n"
     ]
    },
    {
     "ename": "TypeError",
     "evalue": "argument of type 'FileNotFoundError' is not iterable",
     "output_type": "error",
     "traceback": [
      "\u001b[1;31m---------------------------------------------------------------------------\u001b[0m",
      "\u001b[1;31mFileNotFoundError\u001b[0m                         Traceback (most recent call last)",
      "\u001b[1;32m<ipython-input-4-b588c8691968>\u001b[0m in \u001b[0;36mpdf_to_html\u001b[1;34m(pdf_path)\u001b[0m\n\u001b[0;32m     24\u001b[0m         \u001b[0mcmd\u001b[0m \u001b[1;33m=\u001b[0m \u001b[1;34m'pdftotree'\u001b[0m \u001b[1;33m+\u001b[0m \u001b[1;34m\" \"\u001b[0m \u001b[1;33m+\u001b[0m \u001b[1;34m\"-o\"\u001b[0m \u001b[1;33m+\u001b[0m \u001b[1;34m\" \"\u001b[0m \u001b[1;33m+\u001b[0m \u001b[0mhtml_output\u001b[0m \u001b[1;33m+\u001b[0m \u001b[1;34m\" \"\u001b[0m \u001b[1;33m+\u001b[0m \u001b[0mpdf_file\u001b[0m\u001b[1;33m\u001b[0m\u001b[1;33m\u001b[0m\u001b[0m\n\u001b[1;32m---> 25\u001b[1;33m         \u001b[0mb\u001b[0m \u001b[1;33m=\u001b[0m \u001b[0mrun_command\u001b[0m\u001b[1;33m(\u001b[0m\u001b[0mcmd\u001b[0m\u001b[1;33m.\u001b[0m\u001b[0msplit\u001b[0m\u001b[1;33m(\u001b[0m\u001b[1;33m)\u001b[0m\u001b[1;33m)\u001b[0m\u001b[1;33m\u001b[0m\u001b[1;33m\u001b[0m\u001b[0m\n\u001b[0m\u001b[0;32m     26\u001b[0m         \u001b[1;32mfor\u001b[0m \u001b[0mi\u001b[0m \u001b[1;32min\u001b[0m \u001b[0mb\u001b[0m\u001b[1;33m:\u001b[0m\u001b[1;33m\u001b[0m\u001b[1;33m\u001b[0m\u001b[0m\n",
      "\u001b[1;32m<ipython-input-4-b588c8691968>\u001b[0m in \u001b[0;36mrun_command\u001b[1;34m(command)\u001b[0m\n\u001b[0;32m     54\u001b[0m     \"\"\"\n\u001b[1;32m---> 55\u001b[1;33m     p = subprocess.Popen(command,\n\u001b[0m\u001b[0;32m     56\u001b[0m                          \u001b[0mstdout\u001b[0m\u001b[1;33m=\u001b[0m\u001b[0msubprocess\u001b[0m\u001b[1;33m.\u001b[0m\u001b[0mPIPE\u001b[0m\u001b[1;33m,\u001b[0m\u001b[1;33m\u001b[0m\u001b[1;33m\u001b[0m\u001b[0m\n",
      "\u001b[1;32mC:\\ProgramData\\Anaconda3\\lib\\subprocess.py\u001b[0m in \u001b[0;36m__init__\u001b[1;34m(self, args, bufsize, executable, stdin, stdout, stderr, preexec_fn, close_fds, shell, cwd, env, universal_newlines, startupinfo, creationflags, restore_signals, start_new_session, pass_fds, encoding, errors, text)\u001b[0m\n\u001b[0;32m    853\u001b[0m \u001b[1;33m\u001b[0m\u001b[0m\n\u001b[1;32m--> 854\u001b[1;33m             self._execute_child(args, executable, preexec_fn, close_fds,\n\u001b[0m\u001b[0;32m    855\u001b[0m                                 \u001b[0mpass_fds\u001b[0m\u001b[1;33m,\u001b[0m \u001b[0mcwd\u001b[0m\u001b[1;33m,\u001b[0m \u001b[0menv\u001b[0m\u001b[1;33m,\u001b[0m\u001b[1;33m\u001b[0m\u001b[1;33m\u001b[0m\u001b[0m\n",
      "\u001b[1;32mC:\\ProgramData\\Anaconda3\\lib\\subprocess.py\u001b[0m in \u001b[0;36m_execute_child\u001b[1;34m(self, args, executable, preexec_fn, close_fds, pass_fds, cwd, env, startupinfo, creationflags, shell, p2cread, p2cwrite, c2pread, c2pwrite, errread, errwrite, unused_restore_signals, unused_start_new_session)\u001b[0m\n\u001b[0;32m   1306\u001b[0m             \u001b[1;32mtry\u001b[0m\u001b[1;33m:\u001b[0m\u001b[1;33m\u001b[0m\u001b[1;33m\u001b[0m\u001b[0m\n\u001b[1;32m-> 1307\u001b[1;33m                 hp, ht, pid, tid = _winapi.CreateProcess(executable, args,\n\u001b[0m\u001b[0;32m   1308\u001b[0m                                          \u001b[1;31m# no special security\u001b[0m\u001b[1;33m\u001b[0m\u001b[1;33m\u001b[0m\u001b[1;33m\u001b[0m\u001b[0m\n",
      "\u001b[1;31mFileNotFoundError\u001b[0m: [WinError 2] The system cannot find the file specified",
      "\nDuring handling of the above exception, another exception occurred:\n",
      "\u001b[1;31mTypeError\u001b[0m                                 Traceback (most recent call last)",
      "\u001b[1;32m<ipython-input-4-b588c8691968>\u001b[0m in \u001b[0;36m<module>\u001b[1;34m\u001b[0m\n\u001b[0;32m     58\u001b[0m     \u001b[1;32mreturn\u001b[0m \u001b[0miter\u001b[0m\u001b[1;33m(\u001b[0m\u001b[0mp\u001b[0m\u001b[1;33m.\u001b[0m\u001b[0mstdout\u001b[0m\u001b[1;33m.\u001b[0m\u001b[0mreadline\u001b[0m\u001b[1;33m,\u001b[0m \u001b[1;34mb''\u001b[0m\u001b[1;33m)\u001b[0m\u001b[1;33m\u001b[0m\u001b[1;33m\u001b[0m\u001b[0m\n\u001b[0;32m     59\u001b[0m \u001b[1;33m\u001b[0m\u001b[0m\n\u001b[1;32m---> 60\u001b[1;33m \u001b[0mpdf_to_html\u001b[0m\u001b[1;33m(\u001b[0m\u001b[1;34m\"./ITA_asg_1.pdf\"\u001b[0m\u001b[1;33m)\u001b[0m\u001b[1;33m\u001b[0m\u001b[1;33m\u001b[0m\u001b[0m\n\u001b[0m",
      "\u001b[1;32m<ipython-input-4-b588c8691968>\u001b[0m in \u001b[0;36mpdf_to_html\u001b[1;34m(pdf_path)\u001b[0m\n\u001b[0;32m     43\u001b[0m     \u001b[1;32mexcept\u001b[0m \u001b[0mException\u001b[0m \u001b[1;32mas\u001b[0m \u001b[0me\u001b[0m\u001b[1;33m:\u001b[0m\u001b[1;33m\u001b[0m\u001b[1;33m\u001b[0m\u001b[0m\n\u001b[0;32m     44\u001b[0m         \u001b[0mprint\u001b[0m\u001b[1;33m(\u001b[0m\u001b[1;34m'出现错误了'\u001b[0m\u001b[1;33m,\u001b[0m \u001b[0me\u001b[0m\u001b[1;33m)\u001b[0m\u001b[1;33m\u001b[0m\u001b[1;33m\u001b[0m\u001b[0m\n\u001b[1;32m---> 45\u001b[1;33m         \u001b[1;32mif\u001b[0m \u001b[1;34m\"PDF扫描版\"\u001b[0m \u001b[1;32min\u001b[0m \u001b[0me\u001b[0m\u001b[1;33m:\u001b[0m\u001b[1;33m\u001b[0m\u001b[1;33m\u001b[0m\u001b[0m\n\u001b[0m\u001b[0;32m     46\u001b[0m             \u001b[1;32mreturn\u001b[0m \u001b[1;34m\"PDF扫描版\"\u001b[0m\u001b[1;33m\u001b[0m\u001b[1;33m\u001b[0m\u001b[0m\n\u001b[0;32m     47\u001b[0m         \u001b[1;32mreturn\u001b[0m \u001b[1;32mFalse\u001b[0m\u001b[1;33m\u001b[0m\u001b[1;33m\u001b[0m\u001b[0m\n",
      "\u001b[1;31mTypeError\u001b[0m: argument of type 'FileNotFoundError' is not iterable"
     ]
    }
   ],
   "source": [
    "# import pdftotree\n",
    "import subprocess\n",
    "import pyocr\n",
    "import importlib\n",
    "import sys,os\n",
    "import time\n",
    "import requests\n",
    "\n",
    "importlib.reload(sys)\n",
    "time1 = time.time()\n",
    "\n",
    "\n",
    "\n",
    "def pdf_to_html(pdf_path):\n",
    "    \"\"\"\n",
    "    将pdf转HTML，成功与不成功的\n",
    "    :param pdf_path: pdf的本地路径\n",
    "    :return:如果该文件是扫描版，返回扫描版，如果转换失败返回False,如果成功返回转化成HTML的地址\n",
    "    \"\"\"\n",
    "    try:\n",
    "        pdf_file = pdf_path\n",
    "        html_output = pdf_file.split(\".\")[0]+\".html\"\n",
    "        html_output_path = html_output.split(\"/\")[-1]\n",
    "        cmd = 'pdftotree' + \" \" + \"-o\" + \" \" + html_output + \" \" + pdf_file\n",
    "        b = run_command(cmd.split())\n",
    "        for i in b:\n",
    "            i = i.decode()\n",
    "            if \"cannot build tree structure\" in i:\n",
    "                raise Exception(\"该文件是PDF扫描版\")\n",
    "            if \"tabula.errors.JavaNotFoundError\" in i:\n",
    "                raise Exception(\n",
    "                    \"tabula.errors.JavaNotFoundError: `java` command is not found from this Python process. \"\n",
    "                    \"Please ensure Java is installed and PATH is set for `java`\")\n",
    "            info(f\"{pdf_file}已经转换成HTML\")\n",
    "            html_output_path = html_output_path+html_output_path\n",
    "            domain_url = \"/Users/gongsi/PycharmProjects/sticker/formal/AIQT_DATA/citic_report/citic_report/down_pdf/\"\n",
    "            file_path = os.path.join(os.path.dirname(__file__),)\n",
    "            print(\">>>>file\",file_path)\n",
    "            if os.path.exists(domain_url+html_output_path):\n",
    "\n",
    "                return html_output_path\n",
    "            return False\n",
    "    except Exception as e:\n",
    "        print('出现错误了', e)\n",
    "        if \"PDF扫描版\" in e:\n",
    "            return \"PDF扫描版\"\n",
    "        return False\n",
    "    \n",
    "def run_command(command):\n",
    "    \"\"\"\n",
    "    执行cmd命令\n",
    "    :param command: cmd字符串\n",
    "    :return: 包含执行命令结果的一个迭代器\n",
    "    \"\"\"\n",
    "    p = subprocess.Popen(command,\n",
    "                         stdout=subprocess.PIPE,\n",
    "                         stderr=subprocess.STDOUT)\n",
    "    return iter(p.stdout.readline, b'')\n",
    "\n",
    "pdf_to_html(\"./ITA_asg_1.pdf\")"
   ]
  },
  {
   "cell_type": "markdown",
   "metadata": {},
   "source": [
    "### PDF TO Text\n",
    "For Debian, Ubuntu, and friends\n",
    "```\n",
    "sudo apt install build-essential libpoppler-cpp-dev pkg-config python3-dev\n",
    "```\n",
    "For Fedora, Red Hat, and friends\n",
    "```\n",
    "sudo yum install gcc-c++ pkgconfig poppler-cpp-devel python3-devel\n",
    "```"
   ]
  },
  {
   "cell_type": "code",
   "execution_count": 2,
   "metadata": {},
   "outputs": [
    {
     "ename": "ModuleNotFoundError",
     "evalue": "No module named 'pdftotext'",
     "output_type": "error",
     "traceback": [
      "\u001b[1;31m---------------------------------------------------------------------------\u001b[0m",
      "\u001b[1;31mModuleNotFoundError\u001b[0m                       Traceback (most recent call last)",
      "\u001b[1;32m<ipython-input-2-f3aa65cd7aa9>\u001b[0m in \u001b[0;36m<module>\u001b[1;34m\u001b[0m\n\u001b[1;32m----> 1\u001b[1;33m \u001b[1;32mimport\u001b[0m \u001b[0mpdftotext\u001b[0m\u001b[1;33m\u001b[0m\u001b[1;33m\u001b[0m\u001b[0m\n\u001b[0m\u001b[0;32m      2\u001b[0m \u001b[1;33m\u001b[0m\u001b[0m\n\u001b[0;32m      3\u001b[0m  \u001b[1;31m# Load your PDF\u001b[0m\u001b[1;33m\u001b[0m\u001b[1;33m\u001b[0m\u001b[1;33m\u001b[0m\u001b[0m\n\u001b[0;32m      4\u001b[0m \u001b[1;32mwith\u001b[0m \u001b[0mopen\u001b[0m\u001b[1;33m(\u001b[0m\u001b[1;34m\"./data/phone_numbers/070219_KV_BR_Telefonverzei.pdf\"\u001b[0m\u001b[1;33m,\u001b[0m \u001b[1;34m\"rb\"\u001b[0m\u001b[1;33m)\u001b[0m \u001b[1;32mas\u001b[0m \u001b[0mf\u001b[0m\u001b[1;33m:\u001b[0m\u001b[1;33m\u001b[0m\u001b[1;33m\u001b[0m\u001b[0m\n\u001b[0;32m      5\u001b[0m     \u001b[0mpdf\u001b[0m \u001b[1;33m=\u001b[0m \u001b[0mpdftotext\u001b[0m\u001b[1;33m.\u001b[0m\u001b[0mPDF\u001b[0m\u001b[1;33m(\u001b[0m\u001b[0mf\u001b[0m\u001b[1;33m)\u001b[0m\u001b[1;33m\u001b[0m\u001b[1;33m\u001b[0m\u001b[0m\n",
      "\u001b[1;31mModuleNotFoundError\u001b[0m: No module named 'pdftotext'"
     ]
    }
   ],
   "source": [
    "import pdftotext\n",
    "\n",
    " # Load your PDF\n",
    "with open(\"./data/phone_numbers/070219_KV_BR_Telefonverzei.pdf\", \"rb\") as f:\n",
    "    pdf = pdftotext.PDF(f)\n",
    "\n",
    " # Save all text to a txt file.\n",
    "with open('test.txt', 'w') as f:\n",
    "    f.write(\"\\n\\n\".join(pdf))"
   ]
  },
  {
   "cell_type": "code",
   "execution_count": null,
   "metadata": {},
   "outputs": [],
   "source": []
  }
 ],
 "metadata": {
  "kernelspec": {
   "display_name": "Python 3",
   "language": "python",
   "name": "python3"
  },
  "language_info": {
   "codemirror_mode": {
    "name": "ipython",
    "version": 3
   },
   "file_extension": ".py",
   "mimetype": "text/x-python",
   "name": "python",
   "nbconvert_exporter": "python",
   "pygments_lexer": "ipython3",
   "version": "3.8.3"
  }
 },
 "nbformat": 4,
 "nbformat_minor": 4
}
