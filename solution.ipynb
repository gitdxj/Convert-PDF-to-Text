{
 "cells": [
  {
   "cell_type": "markdown",
   "metadata": {},
   "source": [
    "Nov 19\n",
    "下面是找出来的几个候选  \n",
    "pdfminer3k  \n",
    "pdfminer.six  \n",
    "pypdf  \n",
    "pypdfocr \n"
   ]
  },
  {
   "cell_type": "code",
   "execution_count": 1,
   "metadata": {},
   "outputs": [],
   "source": [
    "# file paths\n",
    "phone_numbers = [\"./data/phone_numbers/070219_KV_BR_Telefonverzei.pdf\",\n",
    "                \"./data/phone_numbers/52_pdf_wegweiser_schlaganfall.pdf\",\n",
    "                 \"./data/phone_numbers/FL_SYB_BetriebsaerztlicherDienst_ID8414.pdf\",\n",
    "                 \"./data/phone_numbers/Infoblatt_154.pdf\"\n",
    "                ]\n",
    "scans = [\"./data/scans/double_ocr.pdf\",\n",
    "         \"./data/scans/single_ocr.pdf\"]\n",
    "\n",
    "isbn = [\"./data/isbn/gelbe_seiten_2019-43.pdf\"]\n",
    "\n",
    "unit = [\"./data/unit_conversion/si.txt\"]\n"
   ]
  },
  {
   "cell_type": "markdown",
   "metadata": {},
   "source": [
    "### 1-2 2 Methods of Converting PDF to Plain Text"
   ]
  },
  {
   "cell_type": "markdown",
   "metadata": {},
   "source": [
    "### pdfminer.six\n",
    "```\n",
    "pip install pdfminer.six\n",
    "```"
   ]
  },
  {
   "cell_type": "code",
   "execution_count": 82,
   "metadata": {},
   "outputs": [],
   "source": [
    "from pdfminer.pdfinterp import PDFResourceManager, PDFPageInterpreter\n",
    "from pdfminer.converter import HTMLConverter,TextConverter,XMLConverter\n",
    "from pdfminer.layout import LAParams\n",
    "from pdfminer.pdfpage import PDFPage\n",
    "import io\n",
    "\n",
    "def convert(case, fname, pages=None):\n",
    "    if not pages: pagenums = set();\n",
    "    else:         pagenums = set(pages);      \n",
    "    manager = PDFResourceManager() \n",
    "    codec = 'utf-8'\n",
    "    caching = True\n",
    "    if case == 'text' :\n",
    "        output = io.StringIO()\n",
    "        converter = TextConverter(manager, output, codec=codec, laparams=LAParams())     \n",
    "    if case == 'HTML' :\n",
    "        output = io.BytesIO()\n",
    "        converter = HTMLConverter(manager, output, codec=codec, laparams=LAParams())\n",
    "    interpreter = PDFPageInterpreter(manager, converter)   \n",
    "    infile = open(fname, 'rb')\n",
    "    for page in PDFPage.get_pages(infile, pagenums,caching=caching, check_extractable=True):\n",
    "        interpreter.process_page(page)\n",
    "    convertedPDF = output.getvalue()  \n",
    "    infile.close(); converter.close(); output.close()\n",
    "    return convertedPDF\n",
    "\n",
    "#convertedPDF = convert('HTML', phone_numbers[0])\n",
    "#print(convertedPDF)"
   ]
  },
  {
   "cell_type": "markdown",
   "metadata": {},
   "source": [
    "### PDF TO Text\n",
    "For Debian, Ubuntu, and friends\n",
    "```\n",
    "sudo apt install build-essential libpoppler-cpp-dev pkg-config python3-dev\n",
    "```\n",
    "For Fedora, Red Hat, and friends\n",
    "```\n",
    "sudo yum install gcc-c++ pkgconfig poppler-cpp-devel python3-devel\n",
    "```\n",
    "For Mac OS\n",
    "```\n",
    "brew install pkg-config poppler\n",
    "```\n",
    "then run\n",
    "```\n",
    "pip install pdftotext\n",
    "```"
   ]
  },
  {
   "cell_type": "code",
   "execution_count": 83,
   "metadata": {},
   "outputs": [],
   "source": [
    "import pdftotext\n",
    "\n",
    "def get_text_pdftotext(pdf):\n",
    "    with open(pdf, \"rb\") as f:\n",
    "        pdf = pdftotext.PDF(f)\n",
    "        return (\"\\n\\n\".join(pdf))\n",
    "        #for page in pdf:\n",
    "            #print(page)\n",
    "#print(get_text_pdftotext(phone_numbers[1]))\n"
   ]
  },
  {
   "cell_type": "markdown",
   "metadata": {},
   "source": [
    "## phone number format\n",
    "### phone_numbers[0]\n",
    "06221 / 56 8781  \n",
    "06221 / 56 38099  \n",
    "### phone_numbers[1]\n",
    "0 62 21 – 56 78 42  en dash here  \n",
    "0 72 61 – 66-0  \n",
    "0 62 21 - 319 – 0  \n",
    "0 72 61 – 19 29-2  \n",
    "### phone_numbers[2]\n",
    "06221 – 56 8966\n",
    "### phone_numbers[3]\n",
    "19292  \n",
    "110  \n",
    "56-7272  \n",
    "\n",
    "前半段地区号： \\+?\\d+[[ ]?\\d+]*[/|–|-]?[\\s?\\d+]*"
   ]
  },
  {
   "cell_type": "markdown",
   "metadata": {},
   "source": [
    "### 1-2  4. Extract infomation from PDF"
   ]
  },
  {
   "cell_type": "code",
   "execution_count": 5,
   "metadata": {},
   "outputs": [],
   "source": [
    "import re\n",
    "re_email = re.compile(\"\\w+@[\\w-]+[\\.\\w+]+\")\n",
    "re_phone = re.compile(\"\\+?\\d+[\\s?\\d+]*[/|–|-]?[\\s?\\d+]*\")\n",
    "re_isbn = re.compile(\"\\d*-\\d*-\\d*-\\d*-\\d*\")\n",
    "re_url = re.compile(\"https?:\\/\\/(?:www\\.|(?!www))[a-zA-Z0-9][a-zA-Z0-9-]+[a-zA-Z0-9]\\.[^\\s]{2,}|www\\.[a-zA-Z0-9][a-zA-Z0-9-]+[a-zA-Z0-9]\\.[^\\s]{2,}|https?:\\/\\/(?:www\\.|(?!www))[a-zA-Z0-9]+\\.[^\\s]{2,}|www\\.[a-zA-Z0-9]+\\.[^\\s]{2,}\")\n",
    "def extract_info(regex, files):\n",
    "    for file in files:\n",
    "        text = get_text_pdftotext(file)\n",
    "        infos = regex.findall(text)\n",
    "        #print(infos)\n",
    "        for info in infos:\n",
    "            print(info)\n",
    "#extract_info(re_url, phone_numbers)"
   ]
  },
  {
   "cell_type": "markdown",
   "metadata": {},
   "source": [
    "#### 4.(i) From the PDF files in the folder phone_numbers/ extract as many valid phone numbers as possible"
   ]
  },
  {
   "cell_type": "code",
   "execution_count": null,
   "metadata": {},
   "outputs": [],
   "source": [
    "re_phone = re.compile(\"\\+?\\d+[\\s?\\d+]*[/|–|-]?[\\s?\\d+]*\")\n",
    "extract_info(re_phone, phone_numbers)"
   ]
  },
  {
   "cell_type": "markdown",
   "metadata": {},
   "source": [
    "#### 4.(ii) Extract valid URLs and Email addresses from the files in the folder phone_numbers/."
   ]
  },
  {
   "cell_type": "code",
   "execution_count": null,
   "metadata": {},
   "outputs": [],
   "source": [
    "# extract emails\n",
    "re_email = re.compile(\"\\w+@[\\w-]+[\\.\\w+]+\")\n",
    "extract_info(re_email, phone_numbers)\n",
    "# extract urls\n",
    "re_url = re.compile(\"https?:\\/\\/(?:www\\.|(?!www))[a-zA-Z0-9][a-zA-Z0-9-]+[a-zA-Z0-9]\\.[^\\s]{2,}|www\\.[a-zA-Z0-9][a-zA-Z0-9-]+[a-zA-Z0-9]\\.[^\\s]{2,}|https?:\\/\\/(?:www\\.|(?!www))[a-zA-Z0-9]+\\.[^\\s]{2,}|www\\.[a-zA-Z0-9]+\\.[^\\s]{2,}\")\n",
    "extract_info(re_url, phone_numbers)"
   ]
  },
  {
   "cell_type": "markdown",
   "metadata": {},
   "source": [
    "#### 4.(iii) From the PDF file in the folder isbn/ extract all valid ISBN numbers."
   ]
  },
  {
   "cell_type": "code",
   "execution_count": null,
   "metadata": {},
   "outputs": [],
   "source": [
    "re_isbn = re.compile(\"\\d*-\\d*-\\d*-\\d*-\\d*\")\n",
    "extract_info(re_isbn, phone_numbers)"
   ]
  },
  {
   "cell_type": "markdown",
   "metadata": {},
   "source": [
    "#### 4.(iv) Convert values"
   ]
  },
  {
   "cell_type": "code",
   "execution_count": 29,
   "metadata": {},
   "outputs": [
    {
     "name": "stdout",
     "output_type": "stream",
     "text": [
      "1337 ml\n",
      "2,500 ml\n",
      "12 milliliters\n",
      "26 l\n",
      "18,421.9 ml\n",
      "8321ml\n",
      "32 m\n",
      "\n",
      "1.337\n",
      "2.500\n",
      "0.012\n",
      "26 l\n",
      "18.422\n",
      "8.321\n",
      "32 m\n",
      "\n"
     ]
    }
   ],
   "source": [
    "def ml2l(ml_str):\n",
    "    ml_str = ml_str.group()\n",
    "    # extract the number part\n",
    "    ml_str = re.search(\"([1-9][0-9]*(,[0-9]{3})*(\\.[0-9]+)*)\", ml_str).group()\n",
    "    # get rid of , in large numbers  \"2,500\" => \"2500\"\n",
    "    ml_str = ml_str.replace(',', '')\n",
    "    ml_num = float(ml_str)/1000\n",
    "    return format(ml_num, '.3f')\n",
    "\n",
    "re_ml = re.compile(\"(([1-9][0-9]*(,[0-9]{3})*(\\.[0-9]+)*)[ ]?(ml|milliliters))\")\n",
    "re_num = re.compile(\"([1-9][0-9]*(,[0-9]{3})*(\\.[0-9]+)*)\")\n",
    "f = open(unit[0],'r')\n",
    "content = f.read()\n",
    "print(content)\n",
    "ret = re.sub(r\"(([1-9][0-9]*(,[0-9]{3})*(\\.[0-9]+)*)[ ]?(ml|milliliters))\", ml2l, content)\n",
    "print(ret)"
   ]
  },
  {
   "cell_type": "code",
   "execution_count": 14,
   "metadata": {},
   "outputs": [
    {
     "name": "stdout",
     "output_type": "stream",
     "text": [
      "1223.123\n"
     ]
    }
   ],
   "source": [
    "str_flt = \"1223.123 \"\n",
    "print(float(str_flt))"
   ]
  },
  {
   "cell_type": "code",
   "execution_count": null,
   "metadata": {},
   "outputs": [],
   "source": []
  }
 ],
 "metadata": {
  "kernelspec": {
   "display_name": "Python 3",
   "language": "python",
   "name": "python3"
  },
  "language_info": {
   "codemirror_mode": {
    "name": "ipython",
    "version": 3
   },
   "file_extension": ".py",
   "mimetype": "text/x-python",
   "name": "python",
   "nbconvert_exporter": "python",
   "pygments_lexer": "ipython3",
   "version": "3.7.6"
  }
 },
 "nbformat": 4,
 "nbformat_minor": 4
}
